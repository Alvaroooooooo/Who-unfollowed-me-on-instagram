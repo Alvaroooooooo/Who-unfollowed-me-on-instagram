{
 "cells": [
  {
   "cell_type": "code",
   "execution_count": null,
   "outputs": [],
   "source": [
    "from instabot import Bot\n",
    "from selenium import webdriver\n",
    "import pathlib\n",
    "import time"
   ],
   "metadata": {
    "collapsed": false,
    "pycharm": {
     "name": "#%%\n"
    }
   }
  },
  {
   "cell_type": "code",
   "execution_count": null,
   "outputs": [],
   "source": [
    "usuario = ''\n",
    "contrasena = ''"
   ],
   "metadata": {
    "collapsed": false,
    "pycharm": {
     "name": "#%%\n"
    }
   }
  },
  {
   "cell_type": "code",
   "execution_count": null,
   "outputs": [],
   "source": [
    "path=str(pathlib.Path(__file__).parent.absolute())\n",
    "driver = webdriver.Chrome(path+'/chromedriver')\n",
    "\n",
    "bot = Bot()\n",
    "bot.login(username=usuario, password=contrasena)"
   ],
   "metadata": {
    "collapsed": false,
    "pycharm": {
     "name": "#%%\n"
    }
   }
  },
  {
   "cell_type": "code",
   "execution_count": null,
   "outputs": [],
   "source": [
    "# QUIEN NO ME SIGUE\n",
    "\n",
    "seguidores = bot.get_user_followers(usuario)\n",
    "seguidos = bot.get_user_following(usuario)\n",
    "\n",
    "dejarDeSeguir = []\n",
    "\n",
    "for a in seguidos:\n",
    "    if a not in seguidores:\n",
    "        dejarDeSeguir.append(a)\n",
    "\n",
    "dejarDeSeguirId = []\n",
    "\n",
    "for a in dejarDeSeguir:\n",
    "    dejarDeSeguirId.append(bot.get_username_from_user_id(a))\n",
    "\n",
    "print(len(dejarDeSeguir))\n",
    "print(dejarDeSeguirId)"
   ],
   "metadata": {
    "collapsed": false,
    "pycharm": {
     "name": "#%%\n"
    }
   }
  },
  {
   "cell_type": "code",
   "execution_count": null,
   "outputs": [],
   "source": [
    "# LOG IN\n",
    "\n",
    "driver.get(\"https://www.instagram.com/direct/inbox/\")\n",
    "\n",
    "driver.find_element_by_xpath('/html/body/div[4]/div/div/button[1]').click()\n",
    "\n",
    "time.sleep(2)\n",
    "\n",
    "driver.find_element_by_xpath('//*[@id=\"loginForm\"]/div/div[1]/div/label').send_keys(usuario)\n",
    "driver.find_element_by_xpath('//*[@id=\"loginForm\"]/div/div[2]/div/label').send_keys(contrasena)\n",
    "driver.find_element_by_xpath('//*[@id=\"loginForm\"]/div/div[3]/button').click()"
   ],
   "metadata": {
    "collapsed": false,
    "pycharm": {
     "name": "#%%\n"
    }
   }
  }
 ],
 "metadata": {
  "kernelspec": {
   "display_name": "Python 3",
   "language": "python",
   "name": "python3"
  },
  "language_info": {
   "codemirror_mode": {
    "name": "ipython",
    "version": 2
   },
   "file_extension": ".py",
   "mimetype": "text/x-python",
   "name": "python",
   "nbconvert_exporter": "python",
   "pygments_lexer": "ipython2",
   "version": "2.7.6"
  }
 },
 "nbformat": 4,
 "nbformat_minor": 0
}