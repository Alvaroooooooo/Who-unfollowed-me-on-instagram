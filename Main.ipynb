{
 "cells": [
  {
   "cell_type": "code",
   "execution_count": null,
   "outputs": [],
   "source": [
    "from instabot import Bot\n",
    "\n",
    "bot = Bot()\n",
    "bot.login(username=\"USUARIO\", password=\"PASSWORD\")"
   ],
   "metadata": {
    "collapsed": false,
    "pycharm": {
     "name": "#%%\n"
    }
   }
  },
  {
   "cell_type": "code",
   "execution_count": null,
   "outputs": [],
   "source": [
    "seguidores = bot.get_user_followers(\"USUARIO\")\n",
    "seguidos = bot.get_user_following(\"USUARIO\")"
   ],
   "metadata": {
    "collapsed": false,
    "pycharm": {
     "name": "#%%\n"
    }
   }
  },
  {
   "cell_type": "code",
   "execution_count": null,
   "outputs": [],
   "source": [
    "dejarDeSeguir = []\n",
    "\n",
    "for a in seguidos:\n",
    "    if a not in seguidores:\n",
    "        dejarDeSeguir.append(a)\n",
    "\n",
    "print(a)"
   ],
   "metadata": {
    "collapsed": false,
    "pycharm": {
     "name": "#%%\n"
    }
   }
  },
  {
   "cell_type": "code",
   "execution_count": null,
   "outputs": [],
   "source": [
    "dejarDeSeguirId = []\n",
    "\n",
    "for a in dejarDeSeguir:\n",
    "    dejarDeSeguirId.append(bot.get_username_from_user_id(a))\n",
    "\n",
    "print(len(dejarDeSeguir))\n",
    "print(dejarDeSeguirId)"
   ],
   "metadata": {
    "collapsed": false,
    "pycharm": {
     "name": "#%%\n"
    }
   }
  },
  {
   "cell_type": "code",
   "execution_count": null,
   "outputs": [],
   "source": [
    "#############\n",
    "#bot.unfollow_users(dejarDeSeguirId)\n",
    "#############"
   ],
   "metadata": {
    "collapsed": false,
    "pycharm": {
     "name": "#%%\n"
    }
   }
  }
 ],
 "metadata": {
  "kernelspec": {
   "display_name": "Python 3",
   "language": "python",
   "name": "python3"
  },
  "language_info": {
   "codemirror_mode": {
    "name": "ipython",
    "version": 2
   },
   "file_extension": ".py",
   "mimetype": "text/x-python",
   "name": "python",
   "nbconvert_exporter": "python",
   "pygments_lexer": "ipython2",
   "version": "2.7.6"
  }
 },
 "nbformat": 4,
 "nbformat_minor": 0
}